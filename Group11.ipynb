{
 "cells": [
  {
   "cell_type": "code",
   "execution_count": 1,
   "metadata": {
    "scrolled": true
   },
   "outputs": [],
   "source": [
    "r:(\"DSF\";enlist \",\")0:`$\"Fan.csv\";\n",
    "m:(\"DSF\";enlist \",\")0:`$\"Fan_M.csv\";"
   ]
  },
  {
   "cell_type": "code",
   "execution_count": 34,
   "metadata": {},
   "outputs": [
    {
     "data": {
      "text/plain": [
       "symbol\r\n",
       "------\r\n",
       "50    \r\n"
      ]
     },
     "execution_count": 34,
     "metadata": {},
     "output_type": "execute_result"
    }
   ],
   "source": [
    "select count distinct symbol from m"
   ]
  },
  {
   "cell_type": "code",
   "execution_count": 2,
   "metadata": {},
   "outputs": [
    {
     "data": {
      "text/plain": [
       "symbol\r\n",
       "------\r\n",
       "50    \r\n"
      ]
     },
     "execution_count": 2,
     "metadata": {},
     "output_type": "execute_result"
    }
   ],
   "source": [
    "select count distinct symbol from r"
   ]
  },
  {
   "cell_type": "code",
   "execution_count": 10,
   "metadata": {},
   "outputs": [],
   "source": [
    "btest: select from r where date>=2019.11.01"
   ]
  },
  {
   "cell_type": "code",
   "execution_count": 23,
   "metadata": {},
   "outputs": [],
   "source": [
    "btest1:select from m where date>=2019.11.01"
   ]
  },
  {
   "cell_type": "code",
   "execution_count": 24,
   "metadata": {},
   "outputs": [],
   "source": [
    "rank21:getrank[btest1;2]"
   ]
  },
  {
   "cell_type": "code",
   "execution_count": null,
   "metadata": {},
   "outputs": [],
   "source": []
  },
  {
   "cell_type": "code",
   "execution_count": 2,
   "metadata": {},
   "outputs": [
    {
     "data": {
      "text/plain": [
       "date       symbol    close\r\n",
       "--------------------------\r\n",
       "2019.01.02 sz.000830 9.72 \r\n",
       "2019.01.03 sz.000830 9.74 \r\n",
       "2019.01.04 sz.000830 10.08\r\n",
       "2019.01.07 sz.000830 10.15\r\n",
       "2019.01.08 sz.000830 10.01\r\n",
       "2019.01.09 sz.000830 10.15\r\n",
       "2019.01.10 sz.000830 10.07\r\n",
       "2019.01.11 sz.000830 10.12\r\n",
       "2019.01.14 sz.000830 10.09\r\n",
       "2019.01.15 sz.000830 10.32\r\n",
       "2019.01.16 sz.000830 10.25\r\n",
       "2019.01.17 sz.000830 10.14\r\n",
       "2019.01.18 sz.000830 10.65\r\n",
       "2019.01.21 sz.000830 11.02\r\n",
       "2019.01.22 sz.000830 11.15\r\n",
       "2019.01.23 sz.000830 11.49\r\n",
       "2019.01.24 sz.000830 11.4 \r\n",
       "2019.01.25 sz.000830 11.36\r\n",
       "2019.01.28 sz.000830 11.4 \r\n",
       "2019.01.29 sz.000830 11.65\r\n",
       "..\r\n"
      ]
     },
     "execution_count": 2,
     "metadata": {},
     "output_type": "execute_result"
    }
   ],
   "source": [
    "mdata:select from m where date>=2019.01.01\n",
    "mdata"
   ]
  },
  {
   "cell_type": "code",
   "execution_count": 3,
   "metadata": {},
   "outputs": [],
   "source": [
    "getrank:{[data;look]\n",
    "    ratioi:select last close,cr:last close%max close by symbol,look xbar date.month from data;\n",
    "    ratioi:select month,symbol,close,cr from ratioi;\n",
    "    ranki:update ranks:5 xrank cr by month from ratioi;\n",
    "    ranki:update change:close%prev close by symbol from ranki;\n",
    "    ranki};"
   ]
  },
  {
   "cell_type": "code",
   "execution_count": 67,
   "metadata": {},
   "outputs": [],
   "source": [
    "start:2018.02.01\n",
    "yearrank:getrank[select from m where date>=start,date.year<2020;12]\n",
    "head:select symbol from yearrank where month=2019.02.01,ranks=4\n",
    "tail:select symbol from yearrank where month=2019.02.01,ranks=0"
   ]
  },
  {
   "cell_type": "code",
   "execution_count": 68,
   "metadata": {},
   "outputs": [],
   "source": [
    "mstart:2020.02.01\n",
    "mend:mstart+30*3\n",
    "/mhstart:mstart+30*3\n",
    "/mhend:mhstart+30*3\n",
    "/tail:select symbol from rank3 where month=mstart,ranks=0\n",
    "/head:select symbol from rank3 where month=mstart,ranks=4\n",
    "rtnhead:select from rank3 where month within (mstart,mend),symbol in exec symbol from head\n",
    "rtntail:select from rank3 where month within (mstart,mend),symbol in exec symbol from tail;\n",
    "headrtn:select avg change from select prd change by symbol from rtnhead\n",
    "tailrtn:select avg change from select prd change by symbol from rtntail"
   ]
  },
  {
   "cell_type": "code",
   "execution_count": 69,
   "metadata": {},
   "outputs": [
    {
     "data": {
      "text/plain": [
       ",1\r\n"
      ]
     },
     "execution_count": 69,
     "metadata": {},
     "output_type": "execute_result"
    },
    {
     "data": {
      "text/plain": [
       "change    \r\n",
       "----------\r\n",
       "0.04223289\r\n",
       "          \r\n"
      ]
     },
     "execution_count": 69,
     "metadata": {},
     "output_type": "execute_result"
    }
   ],
   "source": [
    "`table insert(headrtn-tailrtn)\n",
    "table"
   ]
  },
  {
   "cell_type": "code",
   "execution_count": 66,
   "metadata": {},
   "outputs": [
    {
     "data": {
      "text/plain": [
       "change    \r\n",
       "----------\r\n",
       "0.04223289\r\n"
      ]
     },
     "execution_count": 66,
     "metadata": {},
     "output_type": "execute_result"
    }
   ],
   "source": [
    "table:headrtn-tailrtn\n",
    "table"
   ]
  },
  {
   "cell_type": "code",
   "execution_count": 4,
   "metadata": {},
   "outputs": [],
   "source": [
    "rank3:getrank[mdata;3]"
   ]
  },
  {
   "cell_type": "code",
   "execution_count": 11,
   "metadata": {},
   "outputs": [],
   "source": [
    "rank2:getrank[btest;2]"
   ]
  },
  {
   "cell_type": "code",
   "execution_count": 27,
   "metadata": {},
   "outputs": [
    {
     "data": {
      "text/plain": [
       "change     \r\n",
       "-----------\r\n",
       "0.2452928  \r\n",
       "-0.08572759\r\n",
       "0.03157106 \r\n"
      ]
     },
     "execution_count": 27,
     "metadata": {},
     "output_type": "execute_result"
    }
   ],
   "source": [
    "t28:getrtn3[rank21;2019.11.01;2;8],getrtn3[rank21;2020.01.01;2;8],getrtn3[rank21;2020.03.01;2;8]\n",
    "t28"
   ]
  },
  {
   "cell_type": "code",
   "execution_count": 29,
   "metadata": {},
   "outputs": [
    {
     "data": {
      "text/plain": [
       "change| 1.063712\r\n"
      ]
     },
     "execution_count": 29,
     "metadata": {},
     "output_type": "execute_result"
    }
   ],
   "source": [
    "avg 1+t28"
   ]
  },
  {
   "cell_type": "code",
   "execution_count": 26,
   "metadata": {},
   "outputs": [
    {
     "data": {
      "text/plain": [
       "change| 1.148674\r\n"
      ]
     },
     "execution_count": 26,
     "metadata": {},
     "output_type": "execute_result"
    }
   ],
   "source": [
    "a:prd 1+t21 0,2,4\n",
    "b:prd 1+t21 1,3\n",
    "0.5*a+b"
   ]
  },
  {
   "cell_type": "code",
   "execution_count": 72,
   "metadata": {},
   "outputs": [
    {
     "data": {
      "text/plain": [
       "month   symbol    close cr        ranks change   \r\n",
       "-------------------------------------------------\r\n",
       "2019.01 sh.600006 4.63  0.9297189 1              \r\n",
       "2019.04 sh.600006 5.33  0.6949153 1     1.151188 \r\n",
       "2019.07 sh.600006 4.53  0.8017699 0     0.8499062\r\n",
       "2019.10 sh.600006 4.58  0.952183  2     1.011038 \r\n",
       "2020.01 sh.600006 4.07  0.8586498 3     0.8886463\r\n",
       "2020.04 sh.600006 4.03  0.9350348 2     0.990172 \r\n",
       "2020.07 sh.600006 4.87  0.9605523 4     1.208437 \r\n",
       "2020.10 sh.600006 9.44  0.9059501 3     1.938398 \r\n",
       "2019.01 sh.600053 26.92 0.8449466 0              \r\n",
       "2019.04 sh.600053 23.3  0.8204225 3     0.8655275\r\n",
       "2019.07 sh.600053 21.04 0.8694215 1     0.9030043\r\n",
       "2019.10 sh.600053 25.43 1         4     1.20865  \r\n",
       "2020.01 sh.600053 23.26 0.7374762 1     0.9146677\r\n",
       "2020.04 sh.600053 29.84 1         4     1.282889 \r\n",
       "2020.07 sh.600053 24.13 0.6636414 0     0.8086461\r\n",
       "2020.10 sh.600053 19.55 0.7592233 1     0.8101948\r\n",
       "2019.01 sh.600131 18.65 0.7374456 0              \r\n",
       "2019.04 sh.600131 14.34 0.6562929 0     0.7689008\r\n",
       "2019.07 sh.600131 18.52 0.8994658 2     1.291492 \r\n",
       "2019.10 sh.600131 19.82 0.8546787 0     1.070194 \r\n",
       "..\r\n"
      ]
     },
     "execution_count": 72,
     "metadata": {},
     "output_type": "execute_result"
    }
   ],
   "source": [
    "rank3"
   ]
  },
  {
   "cell_type": "code",
   "execution_count": 5,
   "metadata": {},
   "outputs": [],
   "source": [
    "getrtn3:{[rankdf;mlook;win;per]\n",
    "    mstart:mlook+30*win;\n",
    "    mend:mstart+30*per;\n",
    "    tail:select symbol from rankdf where month=mlook,ranks=0;\n",
    "    head:select symbol from rankdf where month=mlook,ranks=4;\n",
    "    rtnhead:select from rankdf where month within (mstart,mend),symbol in exec symbol from head;\n",
    "    rtntail:select from rankdf where month within (mstart,mend),symbol in exec symbol from tail;\n",
    "    headrtn:select avg change from select prd change by symbol from rtnhead;\n",
    "    tailrtn:select avg change from select prd change by symbol from rtntail;\n",
    "    headrtn-tailrtn};"
   ]
  },
  {
   "cell_type": "code",
   "execution_count": 30,
   "metadata": {},
   "outputs": [
    {
     "data": {
      "text/plain": [
       "change      \r\n",
       "------------\r\n",
       "0.009752792 \r\n",
       "0.1949924   \r\n",
       "0.03066095  \r\n",
       "0.0514491   \r\n",
       "0.0001549182\r\n"
      ]
     },
     "execution_count": 30,
     "metadata": {},
     "output_type": "execute_result"
    }
   ],
   "source": [
    "t21"
   ]
  },
  {
   "cell_type": "code",
   "execution_count": 8,
   "metadata": {},
   "outputs": [
    {
     "data": {
      "text/plain": [
       "change      \r\n",
       "------------\r\n",
       "-0.07543877 \r\n",
       "-0.005673851\r\n",
       "0.01650438  \r\n",
       "0.1438339   \r\n"
      ]
     },
     "execution_count": 8,
     "metadata": {},
     "output_type": "execute_result"
    }
   ],
   "source": [
    "t3:getrtn3[rank3;2019.10.01;3;3],getrtn3[rank3;2020.01.01;3;3],getrtn3[rank3;2020.04.01;3;3],getrtn3[rank3;2020.07.01;3;3]\n",
    "t3"
   ]
  },
  {
   "cell_type": "code",
   "execution_count": 31,
   "metadata": {},
   "outputs": [
    {
     "data": {
      "text/plain": [
       "change| 1.068899\r\n"
      ]
     },
     "execution_count": 31,
     "metadata": {},
     "output_type": "execute_result"
    }
   ],
   "source": [
    "prd 1+t3"
   ]
  },
  {
   "cell_type": "code",
   "execution_count": 6,
   "metadata": {},
   "outputs": [
    {
     "data": {
      "text/plain": [
       "change    \r\n",
       "----------\r\n",
       "0.0291277 \r\n",
       "-0.1346717\r\n",
       "0.09406777\r\n"
      ]
     },
     "execution_count": 6,
     "metadata": {},
     "output_type": "execute_result"
    }
   ],
   "source": [
    "t6:getrtn3[rank3;2019.10.01;3;6],getrtn3[rank3;2020.01.01;3;6],getrtn3[rank3;2020.04.01;3;6]\n",
    "t6"
   ]
  },
  {
   "cell_type": "code",
   "execution_count": 7,
   "metadata": {},
   "outputs": [
    {
     "data": {
      "text/plain": [
       "change| 0.9956319\r\n"
      ]
     },
     "execution_count": 7,
     "metadata": {},
     "output_type": "execute_result"
    }
   ],
   "source": [
    "a:prd 1+t6 0,2\n",
    "b:prd 1+t6 1\n",
    "0.5*a+b"
   ]
  },
  {
   "cell_type": "code",
   "execution_count": 23,
   "metadata": {},
   "outputs": [
    {
     "data": {
      "text/plain": [
       "2020.06.29\r\n"
      ]
     },
     "execution_count": 23,
     "metadata": {},
     "output_type": "execute_result"
    }
   ],
   "source": [
    "2020.01.01+180"
   ]
  },
  {
   "cell_type": "code",
   "execution_count": 12,
   "metadata": {},
   "outputs": [
    {
     "data": {
      "text/plain": [
       "change      \r\n",
       "------------\r\n",
       "-0.07334343 \r\n",
       "0.04383551  \r\n",
       "0.1579227   \r\n",
       "-0.008939909\r\n",
       "-0.01885993 \r\n"
      ]
     },
     "execution_count": 12,
     "metadata": {},
     "output_type": "execute_result"
    }
   ],
   "source": [
    "t2:getrtn3[rank2;2019.11.01;2;4],getrtn3[rank2;2020.01.01;2;4],getrtn3[rank2;2020.03.01;2;4],getrtn3[rank2;2020.05.01;2;4],getrtn3[rank2;2020.07.01;2;4]\n",
    "t2"
   ]
  },
  {
   "cell_type": "code",
   "execution_count": 13,
   "metadata": {},
   "outputs": [
    {
     "data": {
      "text/plain": [
       "change| 1.043632\r\n"
      ]
     },
     "execution_count": 13,
     "metadata": {},
     "output_type": "execute_result"
    }
   ],
   "source": [
    "a:prd 1+t2 0,2,4\n",
    "b:prd 1+t2 1,3\n",
    "0.5*a+b"
   ]
  },
  {
   "cell_type": "code",
   "execution_count": 21,
   "metadata": {},
   "outputs": [
    {
     "data": {
      "text/plain": [
       "change| 1.05276\r\n"
      ]
     },
     "execution_count": 21,
     "metadata": {},
     "output_type": "execute_result"
    }
   ],
   "source": [
    "prd 1+t2 0,2,4\n"
   ]
  },
  {
   "cell_type": "code",
   "execution_count": 22,
   "metadata": {},
   "outputs": [
    {
     "data": {
      "text/plain": [
       "change| 1.043632\r\n"
      ]
     },
     "execution_count": 22,
     "metadata": {},
     "output_type": "execute_result"
    }
   ],
   "source": [
    "0.5*a+b"
   ]
  },
  {
   "cell_type": "code",
   "execution_count": 26,
   "metadata": {},
   "outputs": [],
   "source": [
    "mstart:2020.01.01\n",
    "mhstart:mstart+30*3\n",
    "mhend:mhstart+30*3\n",
    "tail:select symbol from rank3 where month=mstart,ranks=0\n",
    "head:select symbol from rank3 where month=mstart,ranks=4\n",
    "rtnhead:select from rank3 where month within (mhstart,mhend),symbol in exec symbol from head\n",
    "rtntail:select from rank3 where month within (mhstart,mhend),symbol in exec symbol from tail;\n",
    "headrtn:select avg change from select prd change by symbol from rtnhead\n",
    "tailrtn:select avg change from select prd change by symbol from rtntail"
   ]
  },
  {
   "cell_type": "code",
   "execution_count": 27,
   "metadata": {},
   "outputs": [
    {
     "data": {
      "text/plain": [
       "month   symbol    close cr        ranks change   \r\n",
       "-------------------------------------------------\r\n",
       "2020.04 sh.600642 5.91  0.9866444 3     1.119318 \r\n",
       "2020.04 sh.600881 2.91  0.9326923 2     0.9448052\r\n",
       "2020.04 sh.601200 12    0.9070295 1     1.023018 \r\n",
       "2020.04 sh.603708 49.26 1         4     1.525077 \r\n",
       "2020.04 sz.000598 4.6   0.9292929 2     1.006565 \r\n",
       "2020.04 sz.000877 15.1  0.947897  2     1.324561 \r\n",
       "2020.04 sz.002004 5.38  0.9728752 3     1.104723 \r\n",
       "2020.04 sz.002375 10.22 0.9668874 3     1.474747 \r\n",
       "2020.04 sz.002791 94.09 1         4     1.717598 \r\n",
       "2020.04 sz.300630 73.95 0.9052516 1     1.158002 \r\n"
      ]
     },
     "execution_count": 27,
     "metadata": {},
     "output_type": "execute_result"
    }
   ],
   "source": [
    "rtnhead"
   ]
  },
  {
   "cell_type": "code",
   "execution_count": 15,
   "metadata": {},
   "outputs": [
    {
     "data": {
      "text/plain": [
       "2020.09.27\r\n"
      ]
     },
     "execution_count": 15,
     "metadata": {},
     "output_type": "execute_result"
    }
   ],
   "source": [
    "2020.01.01+270"
   ]
  },
  {
   "cell_type": "code",
   "execution_count": 19,
   "metadata": {},
   "outputs": [
    {
     "data": {
      "text/plain": [
       "change    \r\n",
       "----------\r\n",
       "-0.2848923\r\n"
      ]
     },
     "execution_count": 19,
     "metadata": {},
     "output_type": "execute_result"
    }
   ],
   "source": [
    "headrtn-tailrtn"
   ]
  },
  {
   "cell_type": "code",
   "execution_count": 50,
   "metadata": {},
   "outputs": [
    {
     "data": {
      "text/plain": [
       "month   symbol    close cr        ranks change   \r\n",
       "-------------------------------------------------\r\n",
       "2020.10 sh.600006 9.44  0.9059501 3     1.938398 \r\n",
       "2020.10 sh.600642 5.22  0.9173989 4     0.9490909\r\n",
       "2020.10 sh.600871 1.96  0.8868778 2     1.082873 \r\n",
       "2020.10 sh.600881 3.1   0.8985507 3     0.9281437\r\n",
       "2020.10 sh.600917 6.86  0.8990826 3     0.9245283\r\n",
       "2020.10 sh.601865 39.9  0.8980419 3     1.333556 \r\n",
       "2020.10 sh.601966 35.17 1         4     1.204452 \r\n",
       "2020.10 sz.000598 4.8   0.9108159 3     0.9411765\r\n",
       "2020.10 sz.002075 10.97 0.6568862 0     0.9058629\r\n",
       "2020.10 sz.300207 30.71 0.9805236 4     1.133629 \r\n"
      ]
     },
     "execution_count": 50,
     "metadata": {},
     "output_type": "execute_result"
    }
   ],
   "source": [
    "/head:select symbol from rank3 where month=2020.07.01,ranks=4;\n",
    "rtnhead:select from rank3 where month within (2020.09.30,2020.12.30),symbol in exec symbol from head\n",
    "rtnhead"
   ]
  },
  {
   "cell_type": "code",
   "execution_count": 51,
   "metadata": {},
   "outputs": [
    {
     "data": {
      "text/plain": [
       "2020.09.29\r\n"
      ]
     },
     "execution_count": 51,
     "metadata": {},
     "output_type": "execute_result"
    }
   ],
   "source": [
    "2020.07.01+90"
   ]
  },
  {
   "cell_type": "code",
   "execution_count": 4,
   "metadata": {},
   "outputs": [],
   "source": [
    "ratio0: select last close,cr:last close%max close by symbol,2 xbar date.month from btest"
   ]
  },
  {
   "cell_type": "code",
   "execution_count": 5,
   "metadata": {},
   "outputs": [],
   "source": [
    "ratio0:select month,symbol,close,cr from ratio0"
   ]
  },
  {
   "cell_type": "code",
   "execution_count": 6,
   "metadata": {},
   "outputs": [],
   "source": [
    "rank0:update ranks:5 xrank cr by month from ratio0"
   ]
  },
  {
   "cell_type": "code",
   "execution_count": 7,
   "metadata": {},
   "outputs": [
    {
     "data": {
      "text/plain": [
       "month   symbol    close cr        ranks change   \r\n",
       "-------------------------------------------------\r\n",
       "2019.11 sh.600053 25.43 1         4              \r\n",
       "2020.01 sh.600053 25.8  0.8180089 1     1.01455  \r\n",
       "2020.03 sh.600053 26.25 0.8500648 2     1.017442 \r\n",
       "2020.05 sh.600053 29.84 1         3     1.136762 \r\n",
       "2020.07 sh.600053 26.8  0.7370737 0     0.8981233\r\n",
       "2020.09 sh.600053 23.41 0.8725307 3     0.8735075\r\n",
       "2020.11 sh.600053 19.55 0.8118771 1     0.8351132\r\n",
       "2019.11 sh.600131 19.82 0.8546787 0              \r\n",
       "2020.01 sh.600131 20.75 0.9002169 3     1.046922 \r\n",
       "2020.03 sh.600131 19.59 0.9253661 3     0.9440964\r\n",
       "2020.05 sh.600131 18.97 0.892286  1     0.9683512\r\n",
       "2020.07 sh.600131 22.11 0.8721893 2     1.165525 \r\n",
       "2020.09 sh.600131 17.36 0.7873016 1     0.7851651\r\n",
       "2020.11 sh.600131 14.23 0.7892402 0     0.8197005\r\n",
       "2019.11 sh.600195 11.55 0.708589  0              \r\n",
       "2020.01 sh.600195 12.5  0.9391435 4     1.082251 \r\n",
       "2020.03 sh.600195 14.46 0.9790115 4     1.1568   \r\n",
       "2020.05 sh.600195 16.23 1         3     1.122407 \r\n",
       "2020.07 sh.600195 19.76 1         4     1.217498 \r\n",
       "2020.09 sh.600195 14.28 0.6962457 0     0.7226721\r\n",
       "..\r\n"
      ]
     },
     "execution_count": 7,
     "metadata": {},
     "output_type": "execute_result"
    }
   ],
   "source": [
    "rank0:update change: close%prev close by symbol from rank0\n",
    "rank0"
   ]
  },
  {
   "cell_type": "code",
   "execution_count": 8,
   "metadata": {},
   "outputs": [],
   "source": [
    "getrtn:{[rankdf;mlook]\n",
    "    tail:select symbol from rankdf where month=mlook,ranks=0;\n",
    "    head:select symbol from rankdf where month=mlook,ranks=4;\n",
    "    rtnhead:select from rankdf where month within (mlook+62,mlook+182),symbol in exec symbol from head;\n",
    "    rtntail:select from rankdf where month within (mlook+62,mlook+182),symbol in exec symbol from tail;\n",
    "    headrtn:select avg change from select prd change by symbol from rtnhead;\n",
    "    tailrtn:select avg change from select prd change by symbol from rtntail;\n",
    "    headrtn-tailrtn};"
   ]
  },
  {
   "cell_type": "code",
   "execution_count": 30,
   "metadata": {},
   "outputs": [
    {
     "data": {
      "text/plain": [
       "2020.12.30\r\n"
      ]
     },
     "execution_count": 30,
     "metadata": {},
     "output_type": "execute_result"
    }
   ],
   "source": [
    "2020.07.01+182"
   ]
  },
  {
   "cell_type": "code",
   "execution_count": 19,
   "metadata": {},
   "outputs": [
    {
     "data": {
      "text/plain": [
       "change     \r\n",
       "-----------\r\n",
       "0.3807945  \r\n",
       "-0.3173503 \r\n",
       "0.1593621  \r\n",
       "-0.04666389\r\n",
       "-0.01885993\r\n"
      ]
     },
     "execution_count": 19,
     "metadata": {},
     "output_type": "execute_result"
    }
   ],
   "source": [
    "getrtn[rank0;2019.11.01],getrtn[rank0;2020.01.01],getrtn[rank0;2020.03.01],getrtn[rank0;2020.05.01],getrtn[rank0;2020.07.01]"
   ]
  },
  {
   "cell_type": "code",
   "execution_count": null,
   "metadata": {},
   "outputs": [],
   "source": [
    "select "
   ]
  },
  {
   "cell_type": "code",
   "execution_count": 20,
   "metadata": {},
   "outputs": [
    {
     "data": {
      "text/plain": [
       "x       \r\n",
       "--------\r\n",
       "1.570649\r\n"
      ]
     },
     "execution_count": 20,
     "metadata": {},
     "output_type": "execute_result"
    }
   ],
   "source": [
    "select prd 1+change from getrtn[rank0;2019.11.01],getrtn[rank0;2020.03.01],getrtn[rank0;2020.07.01]"
   ]
  },
  {
   "cell_type": "code",
   "execution_count": 21,
   "metadata": {},
   "outputs": [],
   "source": [
    "a:select prd 1+change from getrtn[rank0;2019.11.01],getrtn[rank0;2020.03.01],getrtn[rank0;2020.07.01]"
   ]
  },
  {
   "cell_type": "code",
   "execution_count": 0,
   "metadata": {},
   "outputs": [
    {
     "ename": "\u001b[0;31mrank0\u001b[0m",
     "evalue": "\u001b[0;31mrank0\u001b[0m",
     "output_type": "error",
     "traceback": [
      "\u001b[0;31mevaluation error:\n\u001b[0m",
      "\u001b[0;31mrank0\u001b[0m",
      "\u001b[0;31m\u001b[0m",
      "\u001b[0;31m  [0]  b:select prd 1+change from getrtn[rank0;2020.01.01],getrtn[rank0;2020.05.01];\r\n                                                                  ^\r\n\u001b[0m"
     ]
    }
   ],
   "source": [
    "b:select prd 1+change from getrtn[rank0;2020.01.01],getrtn[rank0;2020.05.01];"
   ]
  },
  {
   "cell_type": "code",
   "execution_count": 24,
   "metadata": {},
   "outputs": [
    {
     "data": {
      "text/plain": [
       "x       \r\n",
       "--------\r\n",
       "1.110722\r\n"
      ]
     },
     "execution_count": 24,
     "metadata": {},
     "output_type": "execute_result"
    }
   ],
   "source": [
    "0.5*a+b"
   ]
  },
  {
   "cell_type": "code",
   "execution_count": null,
   "metadata": {},
   "outputs": [],
   "source": []
  }
 ],
 "metadata": {
  "kernelspec": {
   "display_name": "Q (kdb+)",
   "language": "q",
   "name": "qpk"
  },
  "language_info": {
   "file_extension": ".q",
   "mimetype": "text/x-q",
   "name": "q",
   "version": "4.0"
  }
 },
 "nbformat": 4,
 "nbformat_minor": 2
}
